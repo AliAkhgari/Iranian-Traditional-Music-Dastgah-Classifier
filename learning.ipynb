{
 "cells": [
  {
   "cell_type": "code",
   "execution_count": 44,
   "metadata": {},
   "outputs": [],
   "source": [
    "import numpy as np\n",
    "import pandas as pd\n",
    "\n",
    "# Preprocessing\n",
    "from sklearn.model_selection import train_test_split\n",
    "from sklearn.preprocessing import LabelEncoder, StandardScaler\n",
    "\n",
    "from sklearn.neighbors import KNeighborsClassifier\n",
    "from sklearn.cluster import KMeans\n",
    "from sklearn.metrics import classification_report\n",
    "from sklearn.svm import SVC"
   ]
  },
  {
   "cell_type": "code",
   "execution_count": 35,
   "metadata": {},
   "outputs": [
    {
     "data": {
      "text/html": [
       "<div>\n",
       "<style scoped>\n",
       "    .dataframe tbody tr th:only-of-type {\n",
       "        vertical-align: middle;\n",
       "    }\n",
       "\n",
       "    .dataframe tbody tr th {\n",
       "        vertical-align: top;\n",
       "    }\n",
       "\n",
       "    .dataframe thead th {\n",
       "        text-align: right;\n",
       "    }\n",
       "</style>\n",
       "<table border=\"1\" class=\"dataframe\">\n",
       "  <thead>\n",
       "    <tr style=\"text-align: right;\">\n",
       "      <th></th>\n",
       "      <th>0</th>\n",
       "      <th>1</th>\n",
       "      <th>2</th>\n",
       "      <th>3</th>\n",
       "      <th>4</th>\n",
       "      <th>5</th>\n",
       "      <th>6</th>\n",
       "      <th>7</th>\n",
       "      <th>8</th>\n",
       "      <th>9</th>\n",
       "      <th>...</th>\n",
       "      <th>60</th>\n",
       "      <th>61</th>\n",
       "      <th>62</th>\n",
       "      <th>63</th>\n",
       "      <th>64</th>\n",
       "      <th>65</th>\n",
       "      <th>66</th>\n",
       "      <th>67</th>\n",
       "      <th>68</th>\n",
       "      <th>69</th>\n",
       "    </tr>\n",
       "  </thead>\n",
       "  <tbody>\n",
       "    <tr>\n",
       "      <th>0</th>\n",
       "      <td>D_0</td>\n",
       "      <td>-166.792114</td>\n",
       "      <td>48.673981</td>\n",
       "      <td>-61.681690</td>\n",
       "      <td>23.588770</td>\n",
       "      <td>-24.922943</td>\n",
       "      <td>-22.071186</td>\n",
       "      <td>-25.099222</td>\n",
       "      <td>-14.969215</td>\n",
       "      <td>-22.405672</td>\n",
       "      <td>...</td>\n",
       "      <td>0.198428</td>\n",
       "      <td>0.025338</td>\n",
       "      <td>0.153881</td>\n",
       "      <td>0.046216</td>\n",
       "      <td>0.057083</td>\n",
       "      <td>0.014590</td>\n",
       "      <td>0.019117</td>\n",
       "      <td>0.136555</td>\n",
       "      <td>2436.000953</td>\n",
       "      <td>229407.109103</td>\n",
       "    </tr>\n",
       "    <tr>\n",
       "      <th>1</th>\n",
       "      <td>D_0</td>\n",
       "      <td>-196.336411</td>\n",
       "      <td>137.743591</td>\n",
       "      <td>-30.724380</td>\n",
       "      <td>35.839794</td>\n",
       "      <td>-24.167620</td>\n",
       "      <td>8.170997</td>\n",
       "      <td>-8.422764</td>\n",
       "      <td>6.116524</td>\n",
       "      <td>-9.430403</td>\n",
       "      <td>...</td>\n",
       "      <td>0.102050</td>\n",
       "      <td>0.077792</td>\n",
       "      <td>0.051169</td>\n",
       "      <td>0.093380</td>\n",
       "      <td>0.070790</td>\n",
       "      <td>0.105666</td>\n",
       "      <td>0.014385</td>\n",
       "      <td>0.117292</td>\n",
       "      <td>1553.866767</td>\n",
       "      <td>127935.952433</td>\n",
       "    </tr>\n",
       "    <tr>\n",
       "      <th>2</th>\n",
       "      <td>D_0</td>\n",
       "      <td>-255.626404</td>\n",
       "      <td>97.742905</td>\n",
       "      <td>-91.593735</td>\n",
       "      <td>4.170034</td>\n",
       "      <td>-29.750544</td>\n",
       "      <td>-26.448723</td>\n",
       "      <td>-19.965393</td>\n",
       "      <td>-17.997416</td>\n",
       "      <td>-1.946816</td>\n",
       "      <td>...</td>\n",
       "      <td>0.034188</td>\n",
       "      <td>0.136815</td>\n",
       "      <td>0.013002</td>\n",
       "      <td>0.124663</td>\n",
       "      <td>0.078147</td>\n",
       "      <td>0.080960</td>\n",
       "      <td>0.074701</td>\n",
       "      <td>0.022163</td>\n",
       "      <td>1788.712108</td>\n",
       "      <td>83405.215831</td>\n",
       "    </tr>\n",
       "    <tr>\n",
       "      <th>3</th>\n",
       "      <td>D_0</td>\n",
       "      <td>-202.974701</td>\n",
       "      <td>79.678085</td>\n",
       "      <td>-83.443153</td>\n",
       "      <td>2.970738</td>\n",
       "      <td>-63.702785</td>\n",
       "      <td>-8.550585</td>\n",
       "      <td>-37.902176</td>\n",
       "      <td>-5.894975</td>\n",
       "      <td>-21.274141</td>\n",
       "      <td>...</td>\n",
       "      <td>0.056353</td>\n",
       "      <td>0.096599</td>\n",
       "      <td>0.016630</td>\n",
       "      <td>0.158240</td>\n",
       "      <td>0.062040</td>\n",
       "      <td>0.088392</td>\n",
       "      <td>0.071505</td>\n",
       "      <td>0.081503</td>\n",
       "      <td>2253.616971</td>\n",
       "      <td>210885.140703</td>\n",
       "    </tr>\n",
       "    <tr>\n",
       "      <th>4</th>\n",
       "      <td>D_0</td>\n",
       "      <td>-60.888184</td>\n",
       "      <td>99.207787</td>\n",
       "      <td>12.871638</td>\n",
       "      <td>7.476836</td>\n",
       "      <td>-8.987703</td>\n",
       "      <td>18.245726</td>\n",
       "      <td>-8.740259</td>\n",
       "      <td>11.888105</td>\n",
       "      <td>-19.923634</td>\n",
       "      <td>...</td>\n",
       "      <td>0.092568</td>\n",
       "      <td>0.035146</td>\n",
       "      <td>0.132840</td>\n",
       "      <td>0.031000</td>\n",
       "      <td>0.072270</td>\n",
       "      <td>0.025156</td>\n",
       "      <td>0.016877</td>\n",
       "      <td>0.041455</td>\n",
       "      <td>2222.938917</td>\n",
       "      <td>174010.699956</td>\n",
       "    </tr>\n",
       "  </tbody>\n",
       "</table>\n",
       "<p>5 rows × 70 columns</p>\n",
       "</div>"
      ],
      "text/plain": [
       "     0           1           2          3          4          5          6  \\\n",
       "0  D_0 -166.792114   48.673981 -61.681690  23.588770 -24.922943 -22.071186   \n",
       "1  D_0 -196.336411  137.743591 -30.724380  35.839794 -24.167620   8.170997   \n",
       "2  D_0 -255.626404   97.742905 -91.593735   4.170034 -29.750544 -26.448723   \n",
       "3  D_0 -202.974701   79.678085 -83.443153   2.970738 -63.702785  -8.550585   \n",
       "4  D_0  -60.888184   99.207787  12.871638   7.476836  -8.987703  18.245726   \n",
       "\n",
       "           7          8          9  ...        60        61        62  \\\n",
       "0 -25.099222 -14.969215 -22.405672  ...  0.198428  0.025338  0.153881   \n",
       "1  -8.422764   6.116524  -9.430403  ...  0.102050  0.077792  0.051169   \n",
       "2 -19.965393 -17.997416  -1.946816  ...  0.034188  0.136815  0.013002   \n",
       "3 -37.902176  -5.894975 -21.274141  ...  0.056353  0.096599  0.016630   \n",
       "4  -8.740259  11.888105 -19.923634  ...  0.092568  0.035146  0.132840   \n",
       "\n",
       "         63        64        65        66        67           68  \\\n",
       "0  0.046216  0.057083  0.014590  0.019117  0.136555  2436.000953   \n",
       "1  0.093380  0.070790  0.105666  0.014385  0.117292  1553.866767   \n",
       "2  0.124663  0.078147  0.080960  0.074701  0.022163  1788.712108   \n",
       "3  0.158240  0.062040  0.088392  0.071505  0.081503  2253.616971   \n",
       "4  0.031000  0.072270  0.025156  0.016877  0.041455  2222.938917   \n",
       "\n",
       "              69  \n",
       "0  229407.109103  \n",
       "1  127935.952433  \n",
       "2   83405.215831  \n",
       "3  210885.140703  \n",
       "4  174010.699956  \n",
       "\n",
       "[5 rows x 70 columns]"
      ]
     },
     "execution_count": 35,
     "metadata": {},
     "output_type": "execute_result"
    }
   ],
   "source": [
    "df = pd.read_csv(\"data.csv\")\n",
    "df.head()"
   ]
  },
  {
   "cell_type": "code",
   "execution_count": 36,
   "metadata": {},
   "outputs": [],
   "source": [
    "X = df.drop([\"0\"], axis=1)\n",
    "y = df[\"0\"]"
   ]
  },
  {
   "attachments": {},
   "cell_type": "markdown",
   "metadata": {},
   "source": [
    "Label Encoding"
   ]
  },
  {
   "cell_type": "code",
   "execution_count": 37,
   "metadata": {},
   "outputs": [],
   "source": [
    "encoder = LabelEncoder()\n",
    "y = encoder.fit_transform(y)"
   ]
  },
  {
   "cell_type": "code",
   "execution_count": 38,
   "metadata": {},
   "outputs": [],
   "source": [
    "X_train, X_test, y_train, y_test = train_test_split(X, y, test_size=0.25, random_state=31)"
   ]
  },
  {
   "attachments": {},
   "cell_type": "markdown",
   "metadata": {},
   "source": [
    "Normalization"
   ]
  },
  {
   "cell_type": "code",
   "execution_count": 39,
   "metadata": {},
   "outputs": [],
   "source": [
    "scaler = StandardScaler()\n",
    "X_test = scaler.fit_transform(np.array(X_test, dtype = float))\n",
    "X_train = scaler.transform(np.array(X_train, dtype = float))"
   ]
  },
  {
   "cell_type": "code",
   "execution_count": 40,
   "metadata": {},
   "outputs": [],
   "source": [
    "def evaluate(model):\n",
    "    print(\"Train: \")\n",
    "    print(classification_report(y_train, model.predict(X_train)))\n",
    "    print(\"Test: \")\n",
    "    print(classification_report(y_test, model.predict(X_test)))"
   ]
  },
  {
   "attachments": {},
   "cell_type": "markdown",
   "metadata": {},
   "source": [
    "SVM"
   ]
  },
  {
   "cell_type": "code",
   "execution_count": 68,
   "metadata": {},
   "outputs": [
    {
     "data": {
      "text/html": [
       "<style>#sk-container-id-16 {color: black;background-color: white;}#sk-container-id-16 pre{padding: 0;}#sk-container-id-16 div.sk-toggleable {background-color: white;}#sk-container-id-16 label.sk-toggleable__label {cursor: pointer;display: block;width: 100%;margin-bottom: 0;padding: 0.3em;box-sizing: border-box;text-align: center;}#sk-container-id-16 label.sk-toggleable__label-arrow:before {content: \"▸\";float: left;margin-right: 0.25em;color: #696969;}#sk-container-id-16 label.sk-toggleable__label-arrow:hover:before {color: black;}#sk-container-id-16 div.sk-estimator:hover label.sk-toggleable__label-arrow:before {color: black;}#sk-container-id-16 div.sk-toggleable__content {max-height: 0;max-width: 0;overflow: hidden;text-align: left;background-color: #f0f8ff;}#sk-container-id-16 div.sk-toggleable__content pre {margin: 0.2em;color: black;border-radius: 0.25em;background-color: #f0f8ff;}#sk-container-id-16 input.sk-toggleable__control:checked~div.sk-toggleable__content {max-height: 200px;max-width: 100%;overflow: auto;}#sk-container-id-16 input.sk-toggleable__control:checked~label.sk-toggleable__label-arrow:before {content: \"▾\";}#sk-container-id-16 div.sk-estimator input.sk-toggleable__control:checked~label.sk-toggleable__label {background-color: #d4ebff;}#sk-container-id-16 div.sk-label input.sk-toggleable__control:checked~label.sk-toggleable__label {background-color: #d4ebff;}#sk-container-id-16 input.sk-hidden--visually {border: 0;clip: rect(1px 1px 1px 1px);clip: rect(1px, 1px, 1px, 1px);height: 1px;margin: -1px;overflow: hidden;padding: 0;position: absolute;width: 1px;}#sk-container-id-16 div.sk-estimator {font-family: monospace;background-color: #f0f8ff;border: 1px dotted black;border-radius: 0.25em;box-sizing: border-box;margin-bottom: 0.5em;}#sk-container-id-16 div.sk-estimator:hover {background-color: #d4ebff;}#sk-container-id-16 div.sk-parallel-item::after {content: \"\";width: 100%;border-bottom: 1px solid gray;flex-grow: 1;}#sk-container-id-16 div.sk-label:hover label.sk-toggleable__label {background-color: #d4ebff;}#sk-container-id-16 div.sk-serial::before {content: \"\";position: absolute;border-left: 1px solid gray;box-sizing: border-box;top: 0;bottom: 0;left: 50%;z-index: 0;}#sk-container-id-16 div.sk-serial {display: flex;flex-direction: column;align-items: center;background-color: white;padding-right: 0.2em;padding-left: 0.2em;position: relative;}#sk-container-id-16 div.sk-item {position: relative;z-index: 1;}#sk-container-id-16 div.sk-parallel {display: flex;align-items: stretch;justify-content: center;background-color: white;position: relative;}#sk-container-id-16 div.sk-item::before, #sk-container-id-16 div.sk-parallel-item::before {content: \"\";position: absolute;border-left: 1px solid gray;box-sizing: border-box;top: 0;bottom: 0;left: 50%;z-index: -1;}#sk-container-id-16 div.sk-parallel-item {display: flex;flex-direction: column;z-index: 1;position: relative;background-color: white;}#sk-container-id-16 div.sk-parallel-item:first-child::after {align-self: flex-end;width: 50%;}#sk-container-id-16 div.sk-parallel-item:last-child::after {align-self: flex-start;width: 50%;}#sk-container-id-16 div.sk-parallel-item:only-child::after {width: 0;}#sk-container-id-16 div.sk-dashed-wrapped {border: 1px dashed gray;margin: 0 0.4em 0.5em 0.4em;box-sizing: border-box;padding-bottom: 0.4em;background-color: white;}#sk-container-id-16 div.sk-label label {font-family: monospace;font-weight: bold;display: inline-block;line-height: 1.2em;}#sk-container-id-16 div.sk-label-container {text-align: center;}#sk-container-id-16 div.sk-container {/* jupyter's `normalize.less` sets `[hidden] { display: none; }` but bootstrap.min.css set `[hidden] { display: none !important; }` so we also need the `!important` here to be able to override the default hidden behavior on the sphinx rendered scikit-learn.org. See: https://github.com/scikit-learn/scikit-learn/issues/21755 */display: inline-block !important;position: relative;}#sk-container-id-16 div.sk-text-repr-fallback {display: none;}</style><div id=\"sk-container-id-16\" class=\"sk-top-container\"><div class=\"sk-text-repr-fallback\"><pre>SVC(C=10, gamma=0.01)</pre><b>In a Jupyter environment, please rerun this cell to show the HTML representation or trust the notebook. <br />On GitHub, the HTML representation is unable to render, please try loading this page with nbviewer.org.</b></div><div class=\"sk-container\" hidden><div class=\"sk-item\"><div class=\"sk-estimator sk-toggleable\"><input class=\"sk-toggleable__control sk-hidden--visually\" id=\"sk-estimator-id-16\" type=\"checkbox\" checked><label for=\"sk-estimator-id-16\" class=\"sk-toggleable__label sk-toggleable__label-arrow\">SVC</label><div class=\"sk-toggleable__content\"><pre>SVC(C=10, gamma=0.01)</pre></div></div></div></div></div>"
      ],
      "text/plain": [
       "SVC(C=10, gamma=0.01)"
      ]
     },
     "execution_count": 68,
     "metadata": {},
     "output_type": "execute_result"
    }
   ],
   "source": [
    "svc = SVC(kernel = 'rbf', gamma = 0.01, C = 10, decision_function_shape = 'ovr')\n",
    "svc.fit(X_train, y_train)"
   ]
  },
  {
   "cell_type": "code",
   "execution_count": 69,
   "metadata": {},
   "outputs": [
    {
     "name": "stdout",
     "output_type": "stream",
     "text": [
      "Train: \n",
      "              precision    recall  f1-score   support\n",
      "\n",
      "           0       0.98      1.00      0.99       598\n",
      "           1       1.00      1.00      1.00       562\n",
      "           2       0.99      1.00      0.99       633\n",
      "           3       1.00      1.00      1.00       651\n",
      "           4       0.99      0.96      0.98       513\n",
      "           5       0.99      1.00      0.99       623\n",
      "           6       1.00      1.00      1.00       629\n",
      "\n",
      "    accuracy                           0.99      4209\n",
      "   macro avg       0.99      0.99      0.99      4209\n",
      "weighted avg       0.99      0.99      0.99      4209\n",
      "\n",
      "Test: \n",
      "              precision    recall  f1-score   support\n",
      "\n",
      "           0       0.75      0.84      0.79       192\n",
      "           1       0.91      0.89      0.90       167\n",
      "           2       0.84      0.85      0.85       221\n",
      "           3       0.87      0.90      0.88       213\n",
      "           4       0.87      0.82      0.84       212\n",
      "           5       0.86      0.81      0.84       203\n",
      "           6       0.91      0.89      0.90       195\n",
      "\n",
      "    accuracy                           0.86      1403\n",
      "   macro avg       0.86      0.86      0.86      1403\n",
      "weighted avg       0.86      0.86      0.86      1403\n",
      "\n"
     ]
    }
   ],
   "source": [
    "evaluate(svc)"
   ]
  },
  {
   "attachments": {},
   "cell_type": "markdown",
   "metadata": {},
   "source": [
    "KNN"
   ]
  },
  {
   "cell_type": "code",
   "execution_count": 41,
   "metadata": {},
   "outputs": [
    {
     "data": {
      "text/html": [
       "<style>#sk-container-id-3 {color: black;background-color: white;}#sk-container-id-3 pre{padding: 0;}#sk-container-id-3 div.sk-toggleable {background-color: white;}#sk-container-id-3 label.sk-toggleable__label {cursor: pointer;display: block;width: 100%;margin-bottom: 0;padding: 0.3em;box-sizing: border-box;text-align: center;}#sk-container-id-3 label.sk-toggleable__label-arrow:before {content: \"▸\";float: left;margin-right: 0.25em;color: #696969;}#sk-container-id-3 label.sk-toggleable__label-arrow:hover:before {color: black;}#sk-container-id-3 div.sk-estimator:hover label.sk-toggleable__label-arrow:before {color: black;}#sk-container-id-3 div.sk-toggleable__content {max-height: 0;max-width: 0;overflow: hidden;text-align: left;background-color: #f0f8ff;}#sk-container-id-3 div.sk-toggleable__content pre {margin: 0.2em;color: black;border-radius: 0.25em;background-color: #f0f8ff;}#sk-container-id-3 input.sk-toggleable__control:checked~div.sk-toggleable__content {max-height: 200px;max-width: 100%;overflow: auto;}#sk-container-id-3 input.sk-toggleable__control:checked~label.sk-toggleable__label-arrow:before {content: \"▾\";}#sk-container-id-3 div.sk-estimator input.sk-toggleable__control:checked~label.sk-toggleable__label {background-color: #d4ebff;}#sk-container-id-3 div.sk-label input.sk-toggleable__control:checked~label.sk-toggleable__label {background-color: #d4ebff;}#sk-container-id-3 input.sk-hidden--visually {border: 0;clip: rect(1px 1px 1px 1px);clip: rect(1px, 1px, 1px, 1px);height: 1px;margin: -1px;overflow: hidden;padding: 0;position: absolute;width: 1px;}#sk-container-id-3 div.sk-estimator {font-family: monospace;background-color: #f0f8ff;border: 1px dotted black;border-radius: 0.25em;box-sizing: border-box;margin-bottom: 0.5em;}#sk-container-id-3 div.sk-estimator:hover {background-color: #d4ebff;}#sk-container-id-3 div.sk-parallel-item::after {content: \"\";width: 100%;border-bottom: 1px solid gray;flex-grow: 1;}#sk-container-id-3 div.sk-label:hover label.sk-toggleable__label {background-color: #d4ebff;}#sk-container-id-3 div.sk-serial::before {content: \"\";position: absolute;border-left: 1px solid gray;box-sizing: border-box;top: 0;bottom: 0;left: 50%;z-index: 0;}#sk-container-id-3 div.sk-serial {display: flex;flex-direction: column;align-items: center;background-color: white;padding-right: 0.2em;padding-left: 0.2em;position: relative;}#sk-container-id-3 div.sk-item {position: relative;z-index: 1;}#sk-container-id-3 div.sk-parallel {display: flex;align-items: stretch;justify-content: center;background-color: white;position: relative;}#sk-container-id-3 div.sk-item::before, #sk-container-id-3 div.sk-parallel-item::before {content: \"\";position: absolute;border-left: 1px solid gray;box-sizing: border-box;top: 0;bottom: 0;left: 50%;z-index: -1;}#sk-container-id-3 div.sk-parallel-item {display: flex;flex-direction: column;z-index: 1;position: relative;background-color: white;}#sk-container-id-3 div.sk-parallel-item:first-child::after {align-self: flex-end;width: 50%;}#sk-container-id-3 div.sk-parallel-item:last-child::after {align-self: flex-start;width: 50%;}#sk-container-id-3 div.sk-parallel-item:only-child::after {width: 0;}#sk-container-id-3 div.sk-dashed-wrapped {border: 1px dashed gray;margin: 0 0.4em 0.5em 0.4em;box-sizing: border-box;padding-bottom: 0.4em;background-color: white;}#sk-container-id-3 div.sk-label label {font-family: monospace;font-weight: bold;display: inline-block;line-height: 1.2em;}#sk-container-id-3 div.sk-label-container {text-align: center;}#sk-container-id-3 div.sk-container {/* jupyter's `normalize.less` sets `[hidden] { display: none; }` but bootstrap.min.css set `[hidden] { display: none !important; }` so we also need the `!important` here to be able to override the default hidden behavior on the sphinx rendered scikit-learn.org. See: https://github.com/scikit-learn/scikit-learn/issues/21755 */display: inline-block !important;position: relative;}#sk-container-id-3 div.sk-text-repr-fallback {display: none;}</style><div id=\"sk-container-id-3\" class=\"sk-top-container\"><div class=\"sk-text-repr-fallback\"><pre>KNeighborsClassifier(algorithm=&#x27;ball_tree&#x27;, metric=&#x27;manhattan&#x27;, n_neighbors=2,\n",
       "                     weights=&#x27;distance&#x27;)</pre><b>In a Jupyter environment, please rerun this cell to show the HTML representation or trust the notebook. <br />On GitHub, the HTML representation is unable to render, please try loading this page with nbviewer.org.</b></div><div class=\"sk-container\" hidden><div class=\"sk-item\"><div class=\"sk-estimator sk-toggleable\"><input class=\"sk-toggleable__control sk-hidden--visually\" id=\"sk-estimator-id-3\" type=\"checkbox\" checked><label for=\"sk-estimator-id-3\" class=\"sk-toggleable__label sk-toggleable__label-arrow\">KNeighborsClassifier</label><div class=\"sk-toggleable__content\"><pre>KNeighborsClassifier(algorithm=&#x27;ball_tree&#x27;, metric=&#x27;manhattan&#x27;, n_neighbors=2,\n",
       "                     weights=&#x27;distance&#x27;)</pre></div></div></div></div></div>"
      ],
      "text/plain": [
       "KNeighborsClassifier(algorithm='ball_tree', metric='manhattan', n_neighbors=2,\n",
       "                     weights='distance')"
      ]
     },
     "execution_count": 41,
     "metadata": {},
     "output_type": "execute_result"
    }
   ],
   "source": [
    "KNN = KNeighborsClassifier(n_neighbors=2, weights='distance', metric='manhattan', algorithm='ball_tree')\n",
    "KNN.fit(X_train, y_train)"
   ]
  },
  {
   "cell_type": "code",
   "execution_count": 42,
   "metadata": {},
   "outputs": [
    {
     "name": "stdout",
     "output_type": "stream",
     "text": [
      "Train: \n",
      "              precision    recall  f1-score   support\n",
      "\n",
      "           0       1.00      1.00      1.00       598\n",
      "           1       1.00      1.00      1.00       562\n",
      "           2       1.00      1.00      1.00       633\n",
      "           3       1.00      1.00      1.00       651\n",
      "           4       1.00      1.00      1.00       513\n",
      "           5       1.00      1.00      1.00       623\n",
      "           6       1.00      1.00      1.00       629\n",
      "\n",
      "    accuracy                           1.00      4209\n",
      "   macro avg       1.00      1.00      1.00      4209\n",
      "weighted avg       1.00      1.00      1.00      4209\n",
      "\n",
      "Test: \n",
      "              precision    recall  f1-score   support\n",
      "\n",
      "           0       0.90      0.90      0.90       192\n",
      "           1       0.95      0.94      0.94       167\n",
      "           2       0.90      0.89      0.90       221\n",
      "           3       0.91      0.94      0.93       213\n",
      "           4       0.89      0.87      0.88       212\n",
      "           5       0.89      0.89      0.89       203\n",
      "           6       0.93      0.93      0.93       195\n",
      "\n",
      "    accuracy                           0.91      1403\n",
      "   macro avg       0.91      0.91      0.91      1403\n",
      "weighted avg       0.91      0.91      0.91      1403\n",
      "\n"
     ]
    }
   ],
   "source": [
    "evaluate(KNN)"
   ]
  },
  {
   "cell_type": "code",
   "execution_count": null,
   "metadata": {},
   "outputs": [],
   "source": []
  }
 ],
 "metadata": {
  "kernelspec": {
   "display_name": "Python 3",
   "language": "python",
   "name": "python3"
  },
  "language_info": {
   "codemirror_mode": {
    "name": "ipython",
    "version": 3
   },
   "file_extension": ".py",
   "mimetype": "text/x-python",
   "name": "python",
   "nbconvert_exporter": "python",
   "pygments_lexer": "ipython3",
   "version": "3.10.6"
  },
  "orig_nbformat": 4,
  "vscode": {
   "interpreter": {
    "hash": "916dbcbb3f70747c44a77c7bcd40155683ae19c65e1c03b4aa3499c5328201f1"
   }
  }
 },
 "nbformat": 4,
 "nbformat_minor": 2
}
