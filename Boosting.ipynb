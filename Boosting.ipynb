{
 "cells": [
  {
   "cell_type": "code",
   "execution_count": 75,
   "metadata": {
    "collapsed": true
   },
   "outputs": [],
   "source": [
    "import numpy as np\n",
    "import pandas as pd\n",
    "\n",
    "from sklearn.model_selection import train_test_split\n",
    "from sklearn.preprocessing import LabelEncoder, StandardScaler\n",
    "from sklearn.metrics import accuracy_score\n",
    "\n",
    "from xgboost import XGBClassifier\n",
    "\n",
    "from sklearn.ensemble import AdaBoostClassifier\n",
    "from sklearn.svm import SVC"
   ]
  },
  {
   "cell_type": "code",
   "execution_count": 4,
   "outputs": [
    {
     "data": {
      "text/plain": "     0           1           2          3          4          5          6  \\\n0  D_0 -166.792114   48.673981 -61.681690  23.588770 -24.922943 -22.071186   \n1  D_0 -196.336410  137.743591 -30.724380  35.839794 -24.167620   8.170997   \n2  D_0 -255.626404   97.742905 -91.593735   4.170034 -29.750544 -26.448723   \n3  D_0 -202.974701   79.678085 -83.443153   2.970738 -63.702785  -8.550585   \n4  D_0  -60.888184   99.207787  12.871638   7.476836  -8.987703  18.245726   \n\n           7          8          9  ...        60        61        62  \\\n0 -25.099222 -14.969215 -22.405672  ...  0.198428  0.025338  0.153881   \n1  -8.422764   6.116524  -9.430403  ...  0.102050  0.077792  0.051169   \n2 -19.965393 -17.997416  -1.946816  ...  0.034188  0.136815  0.013002   \n3 -37.902176  -5.894975 -21.274141  ...  0.056353  0.096599  0.016630   \n4  -8.740259  11.888105 -19.923634  ...  0.092568  0.035146  0.132840   \n\n         63        64        65        66        67           68            69  \n0  0.046216  0.057083  0.014590  0.019117  0.136555  2436.000953  229407.10910  \n1  0.093380  0.070790  0.105666  0.014385  0.117292  1553.866767  127935.95240  \n2  0.124663  0.078147  0.080960  0.074701  0.022163  1788.712108   83405.21583  \n3  0.158240  0.062040  0.088392  0.071505  0.081503  2253.616971  210885.14070  \n4  0.031000  0.072270  0.025156  0.016877  0.041455  2222.938917  174010.70000  \n\n[5 rows x 70 columns]",
      "text/html": "<div>\n<style scoped>\n    .dataframe tbody tr th:only-of-type {\n        vertical-align: middle;\n    }\n\n    .dataframe tbody tr th {\n        vertical-align: top;\n    }\n\n    .dataframe thead th {\n        text-align: right;\n    }\n</style>\n<table border=\"1\" class=\"dataframe\">\n  <thead>\n    <tr style=\"text-align: right;\">\n      <th></th>\n      <th>0</th>\n      <th>1</th>\n      <th>2</th>\n      <th>3</th>\n      <th>4</th>\n      <th>5</th>\n      <th>6</th>\n      <th>7</th>\n      <th>8</th>\n      <th>9</th>\n      <th>...</th>\n      <th>60</th>\n      <th>61</th>\n      <th>62</th>\n      <th>63</th>\n      <th>64</th>\n      <th>65</th>\n      <th>66</th>\n      <th>67</th>\n      <th>68</th>\n      <th>69</th>\n    </tr>\n  </thead>\n  <tbody>\n    <tr>\n      <th>0</th>\n      <td>D_0</td>\n      <td>-166.792114</td>\n      <td>48.673981</td>\n      <td>-61.681690</td>\n      <td>23.588770</td>\n      <td>-24.922943</td>\n      <td>-22.071186</td>\n      <td>-25.099222</td>\n      <td>-14.969215</td>\n      <td>-22.405672</td>\n      <td>...</td>\n      <td>0.198428</td>\n      <td>0.025338</td>\n      <td>0.153881</td>\n      <td>0.046216</td>\n      <td>0.057083</td>\n      <td>0.014590</td>\n      <td>0.019117</td>\n      <td>0.136555</td>\n      <td>2436.000953</td>\n      <td>229407.10910</td>\n    </tr>\n    <tr>\n      <th>1</th>\n      <td>D_0</td>\n      <td>-196.336410</td>\n      <td>137.743591</td>\n      <td>-30.724380</td>\n      <td>35.839794</td>\n      <td>-24.167620</td>\n      <td>8.170997</td>\n      <td>-8.422764</td>\n      <td>6.116524</td>\n      <td>-9.430403</td>\n      <td>...</td>\n      <td>0.102050</td>\n      <td>0.077792</td>\n      <td>0.051169</td>\n      <td>0.093380</td>\n      <td>0.070790</td>\n      <td>0.105666</td>\n      <td>0.014385</td>\n      <td>0.117292</td>\n      <td>1553.866767</td>\n      <td>127935.95240</td>\n    </tr>\n    <tr>\n      <th>2</th>\n      <td>D_0</td>\n      <td>-255.626404</td>\n      <td>97.742905</td>\n      <td>-91.593735</td>\n      <td>4.170034</td>\n      <td>-29.750544</td>\n      <td>-26.448723</td>\n      <td>-19.965393</td>\n      <td>-17.997416</td>\n      <td>-1.946816</td>\n      <td>...</td>\n      <td>0.034188</td>\n      <td>0.136815</td>\n      <td>0.013002</td>\n      <td>0.124663</td>\n      <td>0.078147</td>\n      <td>0.080960</td>\n      <td>0.074701</td>\n      <td>0.022163</td>\n      <td>1788.712108</td>\n      <td>83405.21583</td>\n    </tr>\n    <tr>\n      <th>3</th>\n      <td>D_0</td>\n      <td>-202.974701</td>\n      <td>79.678085</td>\n      <td>-83.443153</td>\n      <td>2.970738</td>\n      <td>-63.702785</td>\n      <td>-8.550585</td>\n      <td>-37.902176</td>\n      <td>-5.894975</td>\n      <td>-21.274141</td>\n      <td>...</td>\n      <td>0.056353</td>\n      <td>0.096599</td>\n      <td>0.016630</td>\n      <td>0.158240</td>\n      <td>0.062040</td>\n      <td>0.088392</td>\n      <td>0.071505</td>\n      <td>0.081503</td>\n      <td>2253.616971</td>\n      <td>210885.14070</td>\n    </tr>\n    <tr>\n      <th>4</th>\n      <td>D_0</td>\n      <td>-60.888184</td>\n      <td>99.207787</td>\n      <td>12.871638</td>\n      <td>7.476836</td>\n      <td>-8.987703</td>\n      <td>18.245726</td>\n      <td>-8.740259</td>\n      <td>11.888105</td>\n      <td>-19.923634</td>\n      <td>...</td>\n      <td>0.092568</td>\n      <td>0.035146</td>\n      <td>0.132840</td>\n      <td>0.031000</td>\n      <td>0.072270</td>\n      <td>0.025156</td>\n      <td>0.016877</td>\n      <td>0.041455</td>\n      <td>2222.938917</td>\n      <td>174010.70000</td>\n    </tr>\n  </tbody>\n</table>\n<p>5 rows × 70 columns</p>\n</div>"
     },
     "execution_count": 4,
     "metadata": {},
     "output_type": "execute_result"
    }
   ],
   "source": [
    "df = pd.read_csv(\"data.csv\")\n",
    "df.head()"
   ],
   "metadata": {
    "collapsed": false
   }
  },
  {
   "cell_type": "code",
   "execution_count": 5,
   "outputs": [],
   "source": [
    "X = df.drop([\"0\"], axis=1)\n",
    "y = df[\"0\"]"
   ],
   "metadata": {
    "collapsed": false
   }
  },
  {
   "cell_type": "code",
   "execution_count": 8,
   "outputs": [
    {
     "data": {
      "text/plain": "            1           2          3          4          5          6  \\\n0 -166.792114   48.673981 -61.681690  23.588770 -24.922943 -22.071186   \n1 -196.336410  137.743591 -30.724380  35.839794 -24.167620   8.170997   \n2 -255.626404   97.742905 -91.593735   4.170034 -29.750544 -26.448723   \n3 -202.974701   79.678085 -83.443153   2.970738 -63.702785  -8.550585   \n4  -60.888184   99.207787  12.871638   7.476836  -8.987703  18.245726   \n\n           7          8          9         10  ...        60        61  \\\n0 -25.099222 -14.969215 -22.405672   5.865794  ...  0.198428  0.025338   \n1  -8.422764   6.116524  -9.430403  -0.920738  ...  0.102050  0.077792   \n2 -19.965393 -17.997416  -1.946816 -12.361192  ...  0.034188  0.136815   \n3 -37.902176  -5.894975 -21.274141  -1.554764  ...  0.056353  0.096599   \n4  -8.740259  11.888105 -19.923634   0.023995  ...  0.092568  0.035146   \n\n         62        63        64        65        66        67           68  \\\n0  0.153881  0.046216  0.057083  0.014590  0.019117  0.136555  2436.000953   \n1  0.051169  0.093380  0.070790  0.105666  0.014385  0.117292  1553.866767   \n2  0.013002  0.124663  0.078147  0.080960  0.074701  0.022163  1788.712108   \n3  0.016630  0.158240  0.062040  0.088392  0.071505  0.081503  2253.616971   \n4  0.132840  0.031000  0.072270  0.025156  0.016877  0.041455  2222.938917   \n\n             69  \n0  229407.10910  \n1  127935.95240  \n2   83405.21583  \n3  210885.14070  \n4  174010.70000  \n\n[5 rows x 69 columns]",
      "text/html": "<div>\n<style scoped>\n    .dataframe tbody tr th:only-of-type {\n        vertical-align: middle;\n    }\n\n    .dataframe tbody tr th {\n        vertical-align: top;\n    }\n\n    .dataframe thead th {\n        text-align: right;\n    }\n</style>\n<table border=\"1\" class=\"dataframe\">\n  <thead>\n    <tr style=\"text-align: right;\">\n      <th></th>\n      <th>1</th>\n      <th>2</th>\n      <th>3</th>\n      <th>4</th>\n      <th>5</th>\n      <th>6</th>\n      <th>7</th>\n      <th>8</th>\n      <th>9</th>\n      <th>10</th>\n      <th>...</th>\n      <th>60</th>\n      <th>61</th>\n      <th>62</th>\n      <th>63</th>\n      <th>64</th>\n      <th>65</th>\n      <th>66</th>\n      <th>67</th>\n      <th>68</th>\n      <th>69</th>\n    </tr>\n  </thead>\n  <tbody>\n    <tr>\n      <th>0</th>\n      <td>-166.792114</td>\n      <td>48.673981</td>\n      <td>-61.681690</td>\n      <td>23.588770</td>\n      <td>-24.922943</td>\n      <td>-22.071186</td>\n      <td>-25.099222</td>\n      <td>-14.969215</td>\n      <td>-22.405672</td>\n      <td>5.865794</td>\n      <td>...</td>\n      <td>0.198428</td>\n      <td>0.025338</td>\n      <td>0.153881</td>\n      <td>0.046216</td>\n      <td>0.057083</td>\n      <td>0.014590</td>\n      <td>0.019117</td>\n      <td>0.136555</td>\n      <td>2436.000953</td>\n      <td>229407.10910</td>\n    </tr>\n    <tr>\n      <th>1</th>\n      <td>-196.336410</td>\n      <td>137.743591</td>\n      <td>-30.724380</td>\n      <td>35.839794</td>\n      <td>-24.167620</td>\n      <td>8.170997</td>\n      <td>-8.422764</td>\n      <td>6.116524</td>\n      <td>-9.430403</td>\n      <td>-0.920738</td>\n      <td>...</td>\n      <td>0.102050</td>\n      <td>0.077792</td>\n      <td>0.051169</td>\n      <td>0.093380</td>\n      <td>0.070790</td>\n      <td>0.105666</td>\n      <td>0.014385</td>\n      <td>0.117292</td>\n      <td>1553.866767</td>\n      <td>127935.95240</td>\n    </tr>\n    <tr>\n      <th>2</th>\n      <td>-255.626404</td>\n      <td>97.742905</td>\n      <td>-91.593735</td>\n      <td>4.170034</td>\n      <td>-29.750544</td>\n      <td>-26.448723</td>\n      <td>-19.965393</td>\n      <td>-17.997416</td>\n      <td>-1.946816</td>\n      <td>-12.361192</td>\n      <td>...</td>\n      <td>0.034188</td>\n      <td>0.136815</td>\n      <td>0.013002</td>\n      <td>0.124663</td>\n      <td>0.078147</td>\n      <td>0.080960</td>\n      <td>0.074701</td>\n      <td>0.022163</td>\n      <td>1788.712108</td>\n      <td>83405.21583</td>\n    </tr>\n    <tr>\n      <th>3</th>\n      <td>-202.974701</td>\n      <td>79.678085</td>\n      <td>-83.443153</td>\n      <td>2.970738</td>\n      <td>-63.702785</td>\n      <td>-8.550585</td>\n      <td>-37.902176</td>\n      <td>-5.894975</td>\n      <td>-21.274141</td>\n      <td>-1.554764</td>\n      <td>...</td>\n      <td>0.056353</td>\n      <td>0.096599</td>\n      <td>0.016630</td>\n      <td>0.158240</td>\n      <td>0.062040</td>\n      <td>0.088392</td>\n      <td>0.071505</td>\n      <td>0.081503</td>\n      <td>2253.616971</td>\n      <td>210885.14070</td>\n    </tr>\n    <tr>\n      <th>4</th>\n      <td>-60.888184</td>\n      <td>99.207787</td>\n      <td>12.871638</td>\n      <td>7.476836</td>\n      <td>-8.987703</td>\n      <td>18.245726</td>\n      <td>-8.740259</td>\n      <td>11.888105</td>\n      <td>-19.923634</td>\n      <td>0.023995</td>\n      <td>...</td>\n      <td>0.092568</td>\n      <td>0.035146</td>\n      <td>0.132840</td>\n      <td>0.031000</td>\n      <td>0.072270</td>\n      <td>0.025156</td>\n      <td>0.016877</td>\n      <td>0.041455</td>\n      <td>2222.938917</td>\n      <td>174010.70000</td>\n    </tr>\n  </tbody>\n</table>\n<p>5 rows × 69 columns</p>\n</div>"
     },
     "execution_count": 8,
     "metadata": {},
     "output_type": "execute_result"
    }
   ],
   "source": [
    "X.head()"
   ],
   "metadata": {
    "collapsed": false
   }
  },
  {
   "cell_type": "code",
   "execution_count": 10,
   "outputs": [],
   "source": [
    "encoder = LabelEncoder()\n",
    "y = encoder.fit_transform(y)"
   ],
   "metadata": {
    "collapsed": false
   }
  },
  {
   "cell_type": "code",
   "execution_count": 14,
   "outputs": [],
   "source": [
    "scaler = StandardScaler()\n",
    "X = scaler.fit_transform(np.array(X, dtype = float))"
   ],
   "metadata": {
    "collapsed": false
   }
  },
  {
   "cell_type": "code",
   "execution_count": 15,
   "outputs": [],
   "source": [
    "X_train, X_test, y_train, y_test = train_test_split(X, y, test_size=0.25, random_state=31)"
   ],
   "metadata": {
    "collapsed": false
   }
  },
  {
   "cell_type": "code",
   "execution_count": 65,
   "outputs": [
    {
     "data": {
      "text/plain": "XGBClassifier(base_score=None, booster=None, callbacks=None,\n              colsample_bylevel=None, colsample_bynode=None,\n              colsample_bytree=None, early_stopping_rounds=None,\n              enable_categorical=False, eval_metric=None, feature_types=None,\n              gamma=None, gpu_id=None, grow_policy=None, importance_type=None,\n              interaction_constraints=None, learning_rate=None, max_bin=None,\n              max_cat_threshold=None, max_cat_to_onehot=None,\n              max_delta_step=None, max_depth=None, max_leaves=None,\n              min_child_weight=None, missing=nan, monotone_constraints=None,\n              n_estimators=300, n_jobs=None, num_parallel_tree=None,\n              objective='multi:softprob', predictor=None, ...)"
     },
     "execution_count": 65,
     "metadata": {},
     "output_type": "execute_result"
    }
   ],
   "source": [
    "xgb = XGBClassifier(n_estimators=300)\n",
    "xgb.fit(X_train, y_train)"
   ],
   "metadata": {
    "collapsed": false
   }
  },
  {
   "cell_type": "code",
   "execution_count": 66,
   "outputs": [
    {
     "name": "stdout",
     "output_type": "stream",
     "text": [
      "0.8246614397719173\n",
      "0.9997624138750297\n"
     ]
    }
   ],
   "source": [
    "y_pred = xgb.predict(X_test)\n",
    "y_pred2 = xgb.predict(X_train)\n",
    "print(accuracy_score(y_pred, y_test))\n",
    "print(accuracy_score(y_pred2, y_train))"
   ],
   "metadata": {
    "collapsed": false
   }
  },
  {
   "cell_type": "code",
   "execution_count": 77,
   "outputs": [
    {
     "data": {
      "text/plain": "AdaBoostClassifier(base_estimator=SVC(probability=True))"
     },
     "execution_count": 77,
     "metadata": {},
     "output_type": "execute_result"
    }
   ],
   "source": [
    "svc=SVC(probability=True)\n",
    "abc = AdaBoostClassifier(n_estimators=50, base_estimator=svc)\n",
    "abc.fit(X_train, y_train)"
   ],
   "metadata": {
    "collapsed": false
   }
  },
  {
   "cell_type": "code",
   "execution_count": 79,
   "outputs": [
    {
     "name": "stdout",
     "output_type": "stream",
     "text": [
      "0.617248752672844\n",
      "0.7759562841530054\n"
     ]
    }
   ],
   "source": [
    "y_pred = abc.predict(X_test)\n",
    "print(accuracy_score(y_pred, y_test))\n",
    "y_pred_train = abc.predict(X_train)\n",
    "print(accuracy_score(y_pred_train, y_train))"
   ],
   "metadata": {
    "collapsed": false
   }
  }
 ],
 "metadata": {
  "kernelspec": {
   "display_name": "Python 3",
   "language": "python",
   "name": "python3"
  },
  "language_info": {
   "codemirror_mode": {
    "name": "ipython",
    "version": 2
   },
   "file_extension": ".py",
   "mimetype": "text/x-python",
   "name": "python",
   "nbconvert_exporter": "python",
   "pygments_lexer": "ipython2",
   "version": "2.7.6"
  }
 },
 "nbformat": 4,
 "nbformat_minor": 0
}
