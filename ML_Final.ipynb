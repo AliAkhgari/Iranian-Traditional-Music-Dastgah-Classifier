{
 "cells": [
  {
   "cell_type": "code",
   "execution_count": 8,
   "metadata": {
    "collapsed": true
   },
   "outputs": [
    {
     "name": "stderr",
     "output_type": "stream",
     "text": [
      "C:\\Users\\ompan\\anaconda3\\lib\\site-packages\\paramiko\\transport.py:219: CryptographyDeprecationWarning: Blowfish has been deprecated\n",
      "  \"class\": algorithms.Blowfish,\n"
     ]
    }
   ],
   "source": [
    "import numpy as np\n",
    "import pandas as pd\n",
    "from pydub import AudioSegment\n",
    "import librosa\n",
    "import os\n",
    "import fleep"
   ]
  },
  {
   "cell_type": "code",
   "execution_count": 2,
   "outputs": [],
   "source": [
    "def split_audio(audio, part_length):\n",
    "    audio_length = len(audio)\n",
    "    part_count = audio_length // part_length\n",
    "    extra = audio_length - part_count * part_length\n",
    "    start = extra // 2\n",
    "    for i in range(part_count):\n",
    "        yield audio[start: start + part_length], i\n",
    "        start += part_length"
   ],
   "metadata": {
    "collapsed": false
   }
  },
  {
   "cell_type": "code",
   "execution_count": 3,
   "outputs": [],
   "source": [
    "def convert_files(files_path, final_path, part_length):\n",
    "    for file_name in os.listdir(files_path):\n",
    "        file_path = files_path + os.sep + file_name\n",
    "        with open(file_path, 'rb') as file:\n",
    "            info = fleep.get(file.read(128))\n",
    "        if len(info.extension) == 0:\n",
    "            continue\n",
    "        audio = AudioSegment.from_file(file_path, format=info.extension[0])\n",
    "        for part, i in split_audio(audio, part_length):\n",
    "            part_name = '.'.join(file_name.split('.')[:-1]) + '_' + str(i) + '.wav'\n",
    "            part_path = final_path + os.sep + part_name\n",
    "            part.export(part_path, format='wav')"
   ],
   "metadata": {
    "collapsed": false
   }
  },
  {
   "cell_type": "code",
   "execution_count": 4,
   "outputs": [],
   "source": [
    "def prepare_files(data_path, final_path, categories, part_length):\n",
    "    os.makedirs(final_path, exist_ok=True)\n",
    "    for i in range(len(categories)):\n",
    "        category_path = data_path + os.sep + 'D_' + str(i)\n",
    "        final_category_path = final_path + os.sep + categories[i]\n",
    "        os.makedirs(final_category_path, exist_ok=True)\n",
    "        for category_dir in os.listdir(category_path):\n",
    "            instrument_path = category_path + os.sep + category_dir\n",
    "            convert_files(instrument_path, final_category_path, part_length)"
   ],
   "metadata": {
    "collapsed": false
   }
  },
  {
   "cell_type": "code",
   "execution_count": 5,
   "outputs": [],
   "source": [
    "categories = ['D_0', 'D_1', 'D_2', 'D_3', 'D_4', 'D_5', 'D_6']\n",
    "prepare_files('./Data', './ConvertedData', categories, 30000)"
   ],
   "metadata": {
    "collapsed": false
   }
  },
  {
   "cell_type": "code",
   "execution_count": 34,
   "outputs": [],
   "source": [
    "def extract_features(data, sample_rate):\n",
    "    features = []\n",
    "    # MFCC\n",
    "    mfcc = librosa.feature.mfcc(y=data)\n",
    "    features += mfcc.mean(axis=1).tolist()\n",
    "    features += mfcc.var(axis=1).tolist()\n",
    "\n",
    "    # Zero-Crossing rate\n",
    "    zcr = librosa.feature.zero_crossing_rate(y=data)\n",
    "    features.append(np.mean(zcr))\n",
    "\n",
    "    # Spectral roll off\n",
    "    spectral_rolloffs = librosa.feature.spectral_rolloff(y=data, sr=sample_rate)\n",
    "    features.append(np.mean(spectral_rolloffs))\n",
    "    features.append(np.var(spectral_rolloffs))\n",
    "\n",
    "    # Chroma\n",
    "    chroma = librosa.feature.chroma_stft(y=data, sr=sample_rate)\n",
    "    features += chroma.mean(axis=1).tolist()\n",
    "    features += chroma.var(axis=1).tolist()\n",
    "\n",
    "    # Spectral Centroid\n",
    "    spectral_centroids = librosa.feature.spectral_centroid(y=data, sr=sample_rate)\n",
    "    features.append(spectral_centroids.mean())\n",
    "    features.append(spectral_centroids.var())\n",
    "\n",
    "    return features"
   ],
   "metadata": {
    "collapsed": false
   }
  },
  {
   "cell_type": "code",
   "execution_count": 33,
   "outputs": [],
   "source": [
    "def prepare_csv(data_path, final_path, categories):\n",
    "    write_threshold = 1000\n",
    "    file_count = 0\n",
    "    csv_count = 0\n",
    "    data_mat = []\n",
    "    os.makedirs(final_path, exist_ok=True)\n",
    "    for category in categories:\n",
    "        category_path = data_path + os.sep + category\n",
    "        for file_name in os.listdir(category_path):\n",
    "            file_path = category_path + os.sep + file_name\n",
    "            data, sample_rate = librosa.load(file_path)\n",
    "            new_row = [category]\n",
    "            new_row += extract_features(data, sample_rate)\n",
    "            data_mat.append(new_row)\n",
    "            file_count += 1\n",
    "            if file_count == write_threshold:\n",
    "                csv_path = final_path + os.sep + 'data_' + str(csv_count) +'.csv'\n",
    "                df = pd.DataFrame(data_mat)\n",
    "                df.to_csv(csv_path)\n",
    "                csv_count += 1\n",
    "                file_count = 0"
   ],
   "metadata": {
    "collapsed": false
   }
  },
  {
   "cell_type": "code",
   "execution_count": null,
   "outputs": [],
   "source": [
    "prepare_csv('./ConvertedData', './CSVFiles', categories)"
   ],
   "metadata": {
    "collapsed": false,
    "pycharm": {
     "is_executing": true
    }
   }
  }
 ],
 "metadata": {
  "kernelspec": {
   "display_name": "Python 3",
   "language": "python",
   "name": "python3"
  },
  "language_info": {
   "codemirror_mode": {
    "name": "ipython",
    "version": 2
   },
   "file_extension": ".py",
   "mimetype": "text/x-python",
   "name": "python",
   "nbconvert_exporter": "python",
   "pygments_lexer": "ipython2",
   "version": "2.7.6"
  }
 },
 "nbformat": 4,
 "nbformat_minor": 0
}
