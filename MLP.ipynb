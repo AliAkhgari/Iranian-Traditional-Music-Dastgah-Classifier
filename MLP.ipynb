{
 "cells": [
  {
   "cell_type": "code",
   "execution_count": 55,
   "metadata": {},
   "outputs": [],
   "source": [
    "import numpy as np\n",
    "import pandas as pd\n",
    "import matplotlib.pyplot as plt\n",
    "from sklearn.model_selection import train_test_split\n",
    "from sklearn.preprocessing import LabelEncoder, StandardScaler\n",
    "from sklearn.neighbors import KNeighborsClassifier\n",
    "from sklearn.cluster import KMeans\n",
    "from sklearn.metrics import classification_report\n",
    "from sklearn.svm import SVC\n",
    "from sklearn.preprocessing import label_binarize\n",
    "from sklearn.metrics import roc_curve\n",
    "from sklearn.metrics import auc\n",
    "from sklearn.neural_network import MLPClassifier\n",
    "from sklearn.linear_model import LogisticRegression"
   ]
  },
  {
   "cell_type": "code",
   "execution_count": 67,
   "metadata": {},
   "outputs": [
    {
     "data": {
      "text/html": [
       "<div>\n",
       "<style scoped>\n",
       "    .dataframe tbody tr th:only-of-type {\n",
       "        vertical-align: middle;\n",
       "    }\n",
       "\n",
       "    .dataframe tbody tr th {\n",
       "        vertical-align: top;\n",
       "    }\n",
       "\n",
       "    .dataframe thead th {\n",
       "        text-align: right;\n",
       "    }\n",
       "</style>\n",
       "<table border=\"1\" class=\"dataframe\">\n",
       "  <thead>\n",
       "    <tr style=\"text-align: right;\">\n",
       "      <th></th>\n",
       "      <th>0</th>\n",
       "      <th>1</th>\n",
       "      <th>2</th>\n",
       "      <th>3</th>\n",
       "      <th>4</th>\n",
       "      <th>5</th>\n",
       "      <th>6</th>\n",
       "      <th>7</th>\n",
       "      <th>8</th>\n",
       "      <th>9</th>\n",
       "      <th>...</th>\n",
       "      <th>60</th>\n",
       "      <th>61</th>\n",
       "      <th>62</th>\n",
       "      <th>63</th>\n",
       "      <th>64</th>\n",
       "      <th>65</th>\n",
       "      <th>66</th>\n",
       "      <th>67</th>\n",
       "      <th>68</th>\n",
       "      <th>69</th>\n",
       "    </tr>\n",
       "  </thead>\n",
       "  <tbody>\n",
       "    <tr>\n",
       "      <th>0</th>\n",
       "      <td>D_0</td>\n",
       "      <td>-166.792114</td>\n",
       "      <td>48.673981</td>\n",
       "      <td>-61.681690</td>\n",
       "      <td>23.588770</td>\n",
       "      <td>-24.922943</td>\n",
       "      <td>-22.071186</td>\n",
       "      <td>-25.099222</td>\n",
       "      <td>-14.969215</td>\n",
       "      <td>-22.405672</td>\n",
       "      <td>...</td>\n",
       "      <td>0.198428</td>\n",
       "      <td>0.025338</td>\n",
       "      <td>0.153881</td>\n",
       "      <td>0.046216</td>\n",
       "      <td>0.057083</td>\n",
       "      <td>0.014590</td>\n",
       "      <td>0.019117</td>\n",
       "      <td>0.136555</td>\n",
       "      <td>2436.000953</td>\n",
       "      <td>229407.109103</td>\n",
       "    </tr>\n",
       "    <tr>\n",
       "      <th>1</th>\n",
       "      <td>D_0</td>\n",
       "      <td>-196.336411</td>\n",
       "      <td>137.743591</td>\n",
       "      <td>-30.724380</td>\n",
       "      <td>35.839794</td>\n",
       "      <td>-24.167620</td>\n",
       "      <td>8.170997</td>\n",
       "      <td>-8.422764</td>\n",
       "      <td>6.116524</td>\n",
       "      <td>-9.430403</td>\n",
       "      <td>...</td>\n",
       "      <td>0.102050</td>\n",
       "      <td>0.077792</td>\n",
       "      <td>0.051169</td>\n",
       "      <td>0.093380</td>\n",
       "      <td>0.070790</td>\n",
       "      <td>0.105666</td>\n",
       "      <td>0.014385</td>\n",
       "      <td>0.117292</td>\n",
       "      <td>1553.866767</td>\n",
       "      <td>127935.952433</td>\n",
       "    </tr>\n",
       "    <tr>\n",
       "      <th>2</th>\n",
       "      <td>D_0</td>\n",
       "      <td>-255.626404</td>\n",
       "      <td>97.742905</td>\n",
       "      <td>-91.593735</td>\n",
       "      <td>4.170034</td>\n",
       "      <td>-29.750544</td>\n",
       "      <td>-26.448723</td>\n",
       "      <td>-19.965393</td>\n",
       "      <td>-17.997416</td>\n",
       "      <td>-1.946816</td>\n",
       "      <td>...</td>\n",
       "      <td>0.034188</td>\n",
       "      <td>0.136815</td>\n",
       "      <td>0.013002</td>\n",
       "      <td>0.124663</td>\n",
       "      <td>0.078147</td>\n",
       "      <td>0.080960</td>\n",
       "      <td>0.074701</td>\n",
       "      <td>0.022163</td>\n",
       "      <td>1788.712108</td>\n",
       "      <td>83405.215831</td>\n",
       "    </tr>\n",
       "    <tr>\n",
       "      <th>3</th>\n",
       "      <td>D_0</td>\n",
       "      <td>-202.974701</td>\n",
       "      <td>79.678085</td>\n",
       "      <td>-83.443153</td>\n",
       "      <td>2.970738</td>\n",
       "      <td>-63.702785</td>\n",
       "      <td>-8.550585</td>\n",
       "      <td>-37.902176</td>\n",
       "      <td>-5.894975</td>\n",
       "      <td>-21.274141</td>\n",
       "      <td>...</td>\n",
       "      <td>0.056353</td>\n",
       "      <td>0.096599</td>\n",
       "      <td>0.016630</td>\n",
       "      <td>0.158240</td>\n",
       "      <td>0.062040</td>\n",
       "      <td>0.088392</td>\n",
       "      <td>0.071505</td>\n",
       "      <td>0.081503</td>\n",
       "      <td>2253.616971</td>\n",
       "      <td>210885.140703</td>\n",
       "    </tr>\n",
       "    <tr>\n",
       "      <th>4</th>\n",
       "      <td>D_0</td>\n",
       "      <td>-60.888184</td>\n",
       "      <td>99.207787</td>\n",
       "      <td>12.871638</td>\n",
       "      <td>7.476836</td>\n",
       "      <td>-8.987703</td>\n",
       "      <td>18.245726</td>\n",
       "      <td>-8.740259</td>\n",
       "      <td>11.888105</td>\n",
       "      <td>-19.923634</td>\n",
       "      <td>...</td>\n",
       "      <td>0.092568</td>\n",
       "      <td>0.035146</td>\n",
       "      <td>0.132840</td>\n",
       "      <td>0.031000</td>\n",
       "      <td>0.072270</td>\n",
       "      <td>0.025156</td>\n",
       "      <td>0.016877</td>\n",
       "      <td>0.041455</td>\n",
       "      <td>2222.938917</td>\n",
       "      <td>174010.699956</td>\n",
       "    </tr>\n",
       "  </tbody>\n",
       "</table>\n",
       "<p>5 rows × 70 columns</p>\n",
       "</div>"
      ],
      "text/plain": [
       "     0           1           2          3          4          5          6  \\\n",
       "0  D_0 -166.792114   48.673981 -61.681690  23.588770 -24.922943 -22.071186   \n",
       "1  D_0 -196.336411  137.743591 -30.724380  35.839794 -24.167620   8.170997   \n",
       "2  D_0 -255.626404   97.742905 -91.593735   4.170034 -29.750544 -26.448723   \n",
       "3  D_0 -202.974701   79.678085 -83.443153   2.970738 -63.702785  -8.550585   \n",
       "4  D_0  -60.888184   99.207787  12.871638   7.476836  -8.987703  18.245726   \n",
       "\n",
       "           7          8          9      ...              60        61  \\\n",
       "0 -25.099222 -14.969215 -22.405672      ...        0.198428  0.025338   \n",
       "1  -8.422764   6.116524  -9.430403      ...        0.102050  0.077792   \n",
       "2 -19.965393 -17.997416  -1.946816      ...        0.034188  0.136815   \n",
       "3 -37.902176  -5.894975 -21.274141      ...        0.056353  0.096599   \n",
       "4  -8.740259  11.888105 -19.923634      ...        0.092568  0.035146   \n",
       "\n",
       "         62        63        64        65        66        67           68  \\\n",
       "0  0.153881  0.046216  0.057083  0.014590  0.019117  0.136555  2436.000953   \n",
       "1  0.051169  0.093380  0.070790  0.105666  0.014385  0.117292  1553.866767   \n",
       "2  0.013002  0.124663  0.078147  0.080960  0.074701  0.022163  1788.712108   \n",
       "3  0.016630  0.158240  0.062040  0.088392  0.071505  0.081503  2253.616971   \n",
       "4  0.132840  0.031000  0.072270  0.025156  0.016877  0.041455  2222.938917   \n",
       "\n",
       "              69  \n",
       "0  229407.109103  \n",
       "1  127935.952433  \n",
       "2   83405.215831  \n",
       "3  210885.140703  \n",
       "4  174010.699956  \n",
       "\n",
       "[5 rows x 70 columns]"
      ]
     },
     "execution_count": 67,
     "metadata": {},
     "output_type": "execute_result"
    }
   ],
   "source": [
    "df = pd.read_csv(\"data.csv\")\n",
    "df.head()"
   ]
  },
  {
   "cell_type": "code",
   "execution_count": 107,
   "metadata": {},
   "outputs": [],
   "source": [
    "X = df.drop([\"0\"], axis=1)\n",
    "y = df[\"0\"]\n",
    "encoder = LabelEncoder()\n",
    "y = encoder.fit_transform(y)\n",
    "X_train, X_test, y_train, y_test = train_test_split(X, y, test_size=0.25, random_state=25)"
   ]
  },
  {
   "cell_type": "markdown",
   "metadata": {},
   "source": [
    "Normalization"
   ]
  },
  {
   "cell_type": "code",
   "execution_count": 72,
   "metadata": {},
   "outputs": [],
   "source": [
    "scaler = StandardScaler()\n",
    "X_test = scaler.fit_transform(np.array(X_test, dtype = float))\n",
    "X_train = scaler.transform(np.array(X_train, dtype = float))"
   ]
  },
  {
   "cell_type": "markdown",
   "metadata": {},
   "source": [
    "### MLP"
   ]
  },
  {
   "cell_type": "code",
   "execution_count": 48,
   "metadata": {},
   "outputs": [
    {
     "data": {
      "text/plain": [
       "MLPClassifier(activation='relu', alpha=0.0001, batch_size=16, beta_1=0.9,\n",
       "       beta_2=0.999, early_stopping=False, epsilon=1e-08,\n",
       "       hidden_layer_sizes=(128, 64, 32, 8), learning_rate='constant',\n",
       "       learning_rate_init=0.006, max_iter=400, momentum=0.85,\n",
       "       nesterovs_momentum=True, power_t=0.5, random_state=4, shuffle=True,\n",
       "       solver='sgd', tol=0.0001, validation_fraction=0.1, verbose=False,\n",
       "       warm_start=False)"
      ]
     },
     "execution_count": 48,
     "metadata": {},
     "output_type": "execute_result"
    }
   ],
   "source": [
    "MLP = MLPClassifier(hidden_layer_sizes = (128, 64, 32, 8), batch_size = 16, solver = 'sgd', random_state=4, \n",
    "                      verbose=False, momentum=0.85, max_iter=400, learning_rate_init = 0.006)\n",
    "MLP.fit(X_train, y_train)"
   ]
  },
  {
   "cell_type": "code",
   "execution_count": 49,
   "metadata": {},
   "outputs": [
    {
     "name": "stdout",
     "output_type": "stream",
     "text": [
      "MLP Classifier Train accuracy:  99.50106913756237\n",
      "MLP Classifier Test accuracy:  81.68210976478973\n"
     ]
    }
   ],
   "source": [
    "print(\"MLP Classifier Train accuracy: \", MLP.score(X_train, y_train)*100)\n",
    "print(\"MLP Classifier Test accuracy: \", MLP.score(X_test, y_test)*100)"
   ]
  },
  {
   "cell_type": "code",
   "execution_count": 51,
   "metadata": {},
   "outputs": [],
   "source": [
    "def plot_roc_curve(model, X, y, n_classes):\n",
    "    y = label_binarize(y, classes = list(range(n_classes)))\n",
    "    y_pred = label_binarize(model.predict(X), classes = list(range(n_classes)))\n",
    "\n",
    "    for i in range(n_classes):\n",
    "        fpr, tpr, thresholds = roc_curve(y[:, i], y_pred[:, i])\n",
    "        roc_auc = auc(fpr, tpr)\n",
    "        label = 'ROC of class {0} (area={1:0.2f})'.format(i, roc_auc)\n",
    "        plt.plot(fpr, tpr, label = label)\n",
    "        plt.plot([0, 1], [0, 1], linestyle = '--')\n",
    "        plt.xlabel('False Positive Rate')\n",
    "        plt.ylabel('True Positive Rate')\n",
    "        plt.title('ROC Curve')\n",
    "        plt.legend(loc = 'lower right')\n",
    "        \n",
    "    plt.show()"
   ]
  },
  {
   "cell_type": "code",
   "execution_count": 52,
   "metadata": {},
   "outputs": [
    {
     "name": "stdout",
     "output_type": "stream",
     "text": [
      "Train: \n"
     ]
    },
    {
     "data": {
      "image/png": "[encoded data removed]",
      "text/plain": [
       "<Figure size 432x288 with 1 Axes>"
      ]
     },
     "metadata": {
      "needs_background": "light"
     },
     "output_type": "display_data"
    }
   ],
   "source": [
    "print(\"Train: \")\n",
    "plot_roc_curve(MLP, X_train, y_train, n_classes = 7)"
   ]
  },
  {
   "cell_type": "code",
   "execution_count": 54,
   "metadata": {},
   "outputs": [
    {
     "name": "stdout",
     "output_type": "stream",
     "text": [
      "Test: \n"
     ]
    },
    {
     "data": {
      "image/png": "[encoded data removed]",
      "text/plain": [
       "<Figure size 432x288 with 1 Axes>"
      ]
     },
     "metadata": {
      "needs_background": "light"
     },
     "output_type": "display_data"
    }
   ],
   "source": [
    "print(\"Test: \")\n",
    "plot_roc_curve(MLP, X_test, y_test, n_classes = 7)"
   ]
  },
  {
   "cell_type": "markdown",
   "metadata": {},
   "source": [
    "## Logistic Regression"
   ]
  },
  {
   "cell_type": "code",
   "execution_count": 333,
   "metadata": {},
   "outputs": [
    {
     "data": {
      "text/plain": [
       "LogisticRegression(C=50, class_weight=None, dual=False, fit_intercept=True,\n",
       "          intercept_scaling=1, max_iter=1000, multi_class='ovr', n_jobs=1,\n",
       "          penalty='l2', random_state=0, solver='liblinear', tol=0.0001,\n",
       "          verbose=0, warm_start=False)"
      ]
     },
     "execution_count": 333,
     "metadata": {},
     "output_type": "execute_result"
    }
   ],
   "source": [
    "LR_ovr = LogisticRegression( penalty='l2', random_state=0, max_iter=1000,C=50)\n",
    "LR_ovr.fit(X_train, y_train)"
   ]
  },
  {
   "cell_type": "code",
   "execution_count": 334,
   "metadata": {},
   "outputs": [
    {
     "data": {
      "text/plain": [
       "0.45195729537366547"
      ]
     },
     "execution_count": 334,
     "metadata": {},
     "output_type": "execute_result"
    }
   ],
   "source": [
    "LR_ovr.score(X_test, y_test)"
   ]
  },
  {
   "cell_type": "code",
   "execution_count": 131,
   "metadata": {},
   "outputs": [],
   "source": [
    "model = LogisticRegression(penalty='l2', verbose=1, n_jobs=-1)\n",
    "from sklearn.model_selection import train_test_split, GridSearchCV\n",
    "params = {\n",
    "    'solver':['lbfgs', 'newton-cg', 'liblinear', 'sag'],\n",
    "    'multi_class':['ovr', 'multinomial']\n",
    "}\n",
    "     \n",
    "   \n",
    "clf = GridSearchCV(\n",
    "    model,\n",
    "    param_grid=params,\n",
    "   # scoring=f1_score,\n",
    "    cv=5\n",
    ")\n",
    "\n",
    "clf.fit(X_train, y_train) "
   ]
  },
  {
   "cell_type": "code",
   "execution_count": null,
   "metadata": {},
   "outputs": [],
   "source": []
  }
 ],
 "metadata": {
  "kernelspec": {
   "display_name": "Python 3",
   "language": "python",
   "name": "python3"
  },
  "language_info": {
   "codemirror_mode": {
    "name": "ipython",
    "version": 3
   },
   "file_extension": ".py",
   "mimetype": "text/x-python",
   "name": "python",
   "nbconvert_exporter": "python",
   "pygments_lexer": "ipython3",
   "version": "3.7.0"
  }
 },
 "nbformat": 4,
 "nbformat_minor": 2
}
